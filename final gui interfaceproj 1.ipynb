{
 "cells": [
  {
   "cell_type": "code",
   "execution_count": 8,
   "id": "74473a65-ada9-469b-a4d7-134b0d4bc15e",
   "metadata": {},
   "outputs": [],
   "source": [
    "import pandas as pd\n",
    "import warnings\n",
    "import tkinter as tk\n",
    "\n",
    "warnings.filterwarnings('ignore')"
   ]
  },
  {
   "cell_type": "code",
   "execution_count": 9,
   "id": "3a3216dc-a314-41d0-bb1d-67d6b9e98a7d",
   "metadata": {},
   "outputs": [],
   "source": [
    "cols='user_id item_id rating timestamp'.split()\n",
    "df=pd.read_csv('u.data',sep='\\t',names=cols)\n",
    "cols_movies=['item_id','title']+[str(i) for i in range (22)]\n",
    "movie_titles=pd.read_csv('u.item',sep='|',names=cols_movies)\n",
    "movie_titles=movie_titles[['item_id','title']]\n",
    "data=pd.merge(df,movie_titles,on='item_id')\n",
    "rating=pd.DataFrame(data.groupby('title')['rating'].mean())\n",
    "rating['count']=data['title'].value_counts()\n",
    "pivot_df=data.pivot_table(index='user_id',columns='title',values='rating')\n",
    "\n",
    "\n",
    "\n",
    "app=tk.Tk()#one app is requires\n",
    "app.title('Recommender system')\n",
    "app.geometry('450x300')\n",
    "\n",
    "tk.Label(app,text=\"Movie You Watched:\",bg='#C0C0C0',fg='#000000').place(x=25,y=30)\n",
    "tk.Label(app,text='Recommended for you:',bg='#C0C0C0',fg='#000000').place(x=25,y=160)\n",
    "tk.Label(app,text='Also Watch:',bg='#C0C0C0',fg='#000000').place(x=25,y=220)\n",
    "\n",
    "movie_var=tk.Variable(app)\n",
    "tk.Entry(app,textvariable=movie_var,width=30).place(x=200,y=30)#for entry box\n",
    "\n",
    "recommend_var=tk.Variable(app)\n",
    "recommend_var.set('suggestion 1..')\n",
    "tk.Label(app,textvariable=recommend_var,bg='#FFFFFF').place(x=200,y=160)\n",
    "\n",
    "also_watch_var=tk.Variable(app)\n",
    "also_watch_var.set('suggestion 2..')\n",
    "tk.Label(app,textvariable=also_watch_var,bg='#FFFFFF').place(x=200,y=220)\n",
    "\n",
    "def find_recommend():\n",
    "    movie=movie_var.get().lower().strip()#strip removes extra spaces\n",
    "    try:\n",
    "        movie=movie_titles['title'][movie_titles['title'].apply(lambda x:movie in x.lower())].values[0]\n",
    "        movie_var.set(movie)\n",
    "    except IndexError:\n",
    "        recommend_var.set(\"Movie Not found\")\n",
    "        also_watch_var.set(\"Movie Not found\")\n",
    "    else:#if try works than this will also works\n",
    "        corr_df=pd.DataFrame(pivot_df.corrwith(pivot_df[movie]),columns=['Correlation'])\n",
    "        corr_df.dropna(inplace=True)\n",
    "        corr_df=corr_df.join(rating['count'])\n",
    "        recommend_var.set(corr_df[(corr_df['count']>200)&(corr_df['Correlation']>0.4)].sort_values(by='Correlation',ascending=False).index[1])\n",
    "        also_watch_var.set(corr_df[corr_df['Correlation']>0.4].sort_values(by='Correlation',ascending=False).index[0])\n",
    "       \n",
    "    \n",
    "tk.Button(app,text='Find suggestion',command=find_recommend,bg='#FF0000',fg='#000000').place(x=150,y=100)\n",
    "app.mainloop()"
   ]
  },
  {
   "cell_type": "code",
   "execution_count": null,
   "id": "926f2237-95d3-4729-a2c9-0e4dbfbf63c8",
   "metadata": {},
   "outputs": [],
   "source": []
  }
 ],
 "metadata": {
  "kernelspec": {
   "display_name": "Python 3",
   "language": "python",
   "name": "python3"
  },
  "language_info": {
   "codemirror_mode": {
    "name": "ipython",
    "version": 3
   },
   "file_extension": ".py",
   "mimetype": "text/x-python",
   "name": "python",
   "nbconvert_exporter": "python",
   "pygments_lexer": "ipython3",
   "version": "3.8.8"
  }
 },
 "nbformat": 4,
 "nbformat_minor": 5
}
